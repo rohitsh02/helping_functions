{
 "cells": [
  {
   "cell_type": "markdown",
   "metadata": {},
   "source": [
    "function to show image in opencv"
   ]
  },
  {
   "cell_type": "code",
   "execution_count": null,
   "metadata": {},
   "outputs": [],
   "source": [
    "# Define our imshow function\n",
    "def imshow(title = \"Image\", image = None, size = 10):\n",
    "    w, h = image.shape[0], image.shape[1]\n",
    "    aspect_ratio = w/h\n",
    "    plt.figure(figsize=(size * aspect_ratio,size))\n",
    "    plt.imshow(cv2.cvtColor(image, cv2.COLOR_BGR2RGB))\n",
    "    plt.title(title)\n",
    "    plt.show()"
   ]
  },
  {
   "cell_type": "markdown",
   "metadata": {},
   "source": [
    "To get image from github"
   ]
  },
  {
   "cell_type": "code",
   "execution_count": null,
   "metadata": {},
   "outputs": [],
   "source": [
    "# get image from github\n",
    "import requests\n",
    "\n",
    "# URL of the image in your GitHub repository\n",
    "image_url = \"https://raw.githubusercontent.com/rohitsh02/classical_cv_projects/main/image_processing/images/geo.png\"\n",
    "\n",
    "# Send a GET request to the image URL\n",
    "response = requests.get(image_url)\n",
    "\n",
    "# Save the image to a file in your Colab environment\n",
    "with open('geo.png', 'wb') as f:\n",
    "    f.write(response.content)"
   ]
  },
  {
   "cell_type": "code",
   "execution_count": null,
   "metadata": {},
   "outputs": [],
   "source": []
  },
  {
   "cell_type": "code",
   "execution_count": null,
   "metadata": {},
   "outputs": [],
   "source": []
  },
  {
   "cell_type": "code",
   "execution_count": null,
   "metadata": {},
   "outputs": [],
   "source": [
    "# Function we'll use to display contour area\n",
    "\n",
    "def get_contour_areas(contours):\n",
    "    \"\"\"returns the areas of all contours as list\"\"\"\n",
    "    all_areas = []\n",
    "    for cnt in contours:\n",
    "        area = cv2.contourArea(cnt)\n",
    "        all_areas.append(area)\n",
    "    return all_areas"
   ]
  },
  {
   "cell_type": "code",
   "execution_count": null,
   "metadata": {},
   "outputs": [],
   "source": [
    "def autoCanny(image):\n",
    "  # Finds optimal thresholds based on median image pixel intensity\n",
    "  blurred_img = cv2.blur(image, ksize=(5,5))\n",
    "  med_val = np.median(image) \n",
    "  lower = int(max(0, 0.66 * med_val))\n",
    "  upper = int(min(255, 1.33 * med_val))\n",
    "  edges = cv2.Canny(image=image, threshold1=lower, threshold2=upper)\n",
    "  return edges\n",
    "\n",
    "auto_canny = autoCanny(image)\n",
    "imshow(\"auto canny\", auto_canny)"
   ]
  }
 ],
 "metadata": {
  "language_info": {
   "name": "python"
  }
 },
 "nbformat": 4,
 "nbformat_minor": 2
}
