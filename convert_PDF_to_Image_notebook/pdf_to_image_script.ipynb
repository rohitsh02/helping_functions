{
 "cells": [
  {
   "cell_type": "markdown",
   "id": "48ccd1a2",
   "metadata": {},
   "source": [
    "# Main"
   ]
  },
  {
   "cell_type": "code",
   "execution_count": 29,
   "id": "4610e000",
   "metadata": {},
   "outputs": [],
   "source": [
    "# pip install pillow\n",
    "# pip install PyMuPDF"
   ]
  },
  {
   "cell_type": "code",
   "execution_count": 1,
   "id": "d894496c",
   "metadata": {},
   "outputs": [],
   "source": [
    "import fitz  # PyMuPDF\n",
    "from PIL import Image\n",
    "import os\n",
    "\n",
    "def pdf_to_images(pdf_path, output_format=\"jpg\"):\n",
    "    # Check if the file exists\n",
    "    if not os.path.exists(pdf_path):\n",
    "        print(f\"The file '{pdf_path}' does not exist.\")\n",
    "        return\n",
    "\n",
    "    # Extract the PDF file name (without extension)\n",
    "    pdf_name = os.path.splitext(os.path.basename(pdf_path))[0]\n",
    "\n",
    "    # Determine output folder and image format\n",
    "    if output_format.lower() == \"png\":\n",
    "        output_folder = f\"{pdf_name}_png\"\n",
    "        output_format_1 = \"png\"\n",
    "    else:\n",
    "        output_folder = f\"{pdf_name}_jpg\"\n",
    "        output_format_1 = \"jpeg\"\n",
    "\n",
    "    os.makedirs(output_folder, exist_ok=True)\n",
    "\n",
    "    # Open the PDF file\n",
    "    pdf_document = fitz.open(pdf_path)\n",
    "\n",
    "    # Iterate through each page in the PDF\n",
    "    for page_number in range(pdf_document.page_count):\n",
    "        # Get the page\n",
    "        page = pdf_document[page_number]\n",
    "\n",
    "        # Convert the page to an image\n",
    "        image = page.get_pixmap()\n",
    "\n",
    "        # Create an Image object from the image data\n",
    "        img = Image.frombytes(\"RGB\", [image.width, image.height], image.samples)\n",
    "\n",
    "        # Save the image\n",
    "        image_filename = f\"{output_folder}/page_{page_number + 1}.{output_format}\"\n",
    "        img.save(image_filename, format=output_format_1.upper())\n",
    "\n",
    "        print(f\"Page {page_number + 1} saved as {image_filename}\")\n",
    "\n",
    "    # Close the PDF file\n",
    "    pdf_document.close()"
   ]
  },
  {
   "cell_type": "code",
   "execution_count": 3,
   "id": "0631b67c",
   "metadata": {},
   "outputs": [
    {
     "name": "stdout",
     "output_type": "stream",
     "text": [
      "Page 1 saved as LT E-Bill Tehsil Office, Ramtek_jpg/page_1.jpg\n",
      "Page 2 saved as LT E-Bill Tehsil Office, Ramtek_jpg/page_2.jpg\n",
      "Page 3 saved as LT E-Bill Tehsil Office, Ramtek_jpg/page_3.jpg\n"
     ]
    }
   ],
   "source": [
    "pdf_to_images(\"LT E-Bill Tehsil Office, Ramtek.pdf\", output_format=\"jpg\")"
   ]
  },
  {
   "cell_type": "markdown",
   "id": "02e0880e",
   "metadata": {},
   "source": [
    "## Rough"
   ]
  },
  {
   "cell_type": "code",
   "execution_count": 8,
   "id": "587c1142",
   "metadata": {},
   "outputs": [],
   "source": [
    "import fitz  # PyMuPDF\n",
    "from PIL import Image\n",
    "import os\n",
    "\n",
    "def pdf_to_jpg(pdf_path):\n",
    "    # Check if the file exists\n",
    "    if not os.path.exists(pdf_path):\n",
    "        print(f\"The file '{pdf_path}' does not exist.\")\n",
    "        return\n",
    "\n",
    "    # Extract the PDF file name (without extension)\n",
    "    pdf_name = os.path.splitext(os.path.basename(pdf_path))[0]\n",
    "\n",
    "    # Create output folder\n",
    "    output_folder = f\"{pdf_name}_jpg\"\n",
    "    os.makedirs(output_folder, exist_ok=True)\n",
    "\n",
    "    # Open the PDF file\n",
    "    pdf_document = fitz.open(pdf_path)\n",
    "\n",
    "    # Iterate through each page in the PDF\n",
    "    for page_number in range(pdf_document.page_count):\n",
    "        # Get the page\n",
    "        page = pdf_document[page_number]\n",
    "\n",
    "        # Convert the page to an image\n",
    "        image = page.get_pixmap()\n",
    "\n",
    "        # Create an Image object from the image data\n",
    "        img = Image.frombytes(\"RGB\", [image.width, image.height], image.samples)\n",
    "\n",
    "        # Save the image as a JPEG file\n",
    "        image_filename = f\"{output_folder}/page_{page_number + 1}.jpg\"\n",
    "        img.save(image_filename)\n",
    "\n",
    "        print(f\"Page {page_number + 1} saved as {image_filename}\")\n",
    "\n",
    "    # Close the PDF file\n",
    "    pdf_document.close()\n",
    "\n",
    "# if __name__ == \"__main__\":\n",
    "#     # Replace 'input.pdf' with the path to your PDF file\n",
    "#     pdf_path = \"input.pdf\"\n",
    "\n",
    "#     pdf_to_jpg(pdf_path)"
   ]
  },
  {
   "cell_type": "code",
   "execution_count": 9,
   "id": "bd065503",
   "metadata": {},
   "outputs": [
    {
     "name": "stdout",
     "output_type": "stream",
     "text": [
      "Page 1 saved as HT_LTIP E-Bill suncity _jpg/page_1.jpg\n",
      "Page 2 saved as HT_LTIP E-Bill suncity _jpg/page_2.jpg\n",
      "Page 3 saved as HT_LTIP E-Bill suncity _jpg/page_3.jpg\n",
      "Page 4 saved as HT_LTIP E-Bill suncity _jpg/page_4.jpg\n"
     ]
    }
   ],
   "source": [
    "pdf_to_jpg(\"HT_LTIP E-Bill suncity .pdf\")"
   ]
  },
  {
   "cell_type": "code",
   "execution_count": 2,
   "id": "3d4af7f7",
   "metadata": {},
   "outputs": [],
   "source": [
    "import PyPDF2\n",
    "from PIL import Image\n",
    "import os\n",
    "\n",
    "def pdf_to_jpg(pdf_path):\n",
    "    # Check if the file exists\n",
    "    if not os.path.exists(pdf_path):\n",
    "        print(f\"The file '{pdf_path}' does not exist.\")\n",
    "        return\n",
    "\n",
    "    # Extract the PDF file name (without extension)\n",
    "    pdf_name = os.path.splitext(os.path.basename(pdf_path))[0]\n",
    "\n",
    "    # Create output folder\n",
    "    output_folder = f\"{pdf_name}_jpg\"\n",
    "    os.makedirs(output_folder, exist_ok=True)\n",
    "\n",
    "    # Open the PDF file\n",
    "    with open(pdf_path, 'rb') as pdf_file:\n",
    "        pdf_reader = PyPDF2.PdfReader(pdf_file)\n",
    "\n",
    "        # Iterate through each page in the PDF\n",
    "        for page_number in range(len(pdf_reader.pages)):\n",
    "            # Get the page\n",
    "            page = pdf_reader.pages[page_number]\n",
    "            \n",
    "           \n"
   ]
  },
  {
   "cell_type": "code",
   "execution_count": 4,
   "id": "8e705c88",
   "metadata": {},
   "outputs": [],
   "source": [
    "def pdf_to_png(pdf_path):\n",
    "    # Check if the file exists\n",
    "    if not os.path.exists(pdf_path):\n",
    "        print(f\"The file '{pdf_path}' does not exist.\")\n",
    "        return\n",
    "\n",
    "    # Extract the PDF file name (without extension)\n",
    "    pdf_name = os.path.splitext(os.path.basename(pdf_path))[0]\n",
    "\n",
    "    # Create output folder\n",
    "    output_folder = f\"{pdf_name}_png\"\n",
    "    os.makedirs(output_folder, exist_ok=True)\n",
    "\n",
    "    # Open the PDF file\n",
    "    pdf_document = fitz.open(pdf_path)\n",
    "\n",
    "    # Iterate through each page in the PDF\n",
    "    for page_number in range(pdf_document.page_count):\n",
    "        # Get the page\n",
    "        page = pdf_document[page_number]\n",
    "\n",
    "        # Convert the page to an image\n",
    "        image = page.get_pixmap()\n",
    "\n",
    "        # Create an Image object from the image data\n",
    "        img = Image.frombytes(\"RGB\", [image.width, image.height], image.samples)\n",
    "\n",
    "        # Save the image as a PNG file\n",
    "        image_filename = f\"{output_folder}/page_{page_number + 1}.png\"\n",
    "        img.save(image_filename, format=\"PNG\")\n",
    "\n",
    "        print(f\"Page {page_number + 1} saved as {image_filename}\")\n",
    "\n",
    "    # Close the PDF file\n",
    "    pdf_document.close()"
   ]
  },
  {
   "cell_type": "code",
   "execution_count": 10,
   "id": "cf66b407",
   "metadata": {},
   "outputs": [
    {
     "name": "stdout",
     "output_type": "stream",
     "text": [
      "Page 1 saved as HT_LTIP E-Bill suncity _png/page_1.png\n",
      "Page 2 saved as HT_LTIP E-Bill suncity _png/page_2.png\n",
      "Page 3 saved as HT_LTIP E-Bill suncity _png/page_3.png\n",
      "Page 4 saved as HT_LTIP E-Bill suncity _png/page_4.png\n"
     ]
    }
   ],
   "source": [
    "pdf_to_png(\"HT_LTIP E-Bill suncity .pdf\")"
   ]
  },
  {
   "cell_type": "code",
   "execution_count": 27,
   "id": "c2dc8ae1",
   "metadata": {},
   "outputs": [
    {
     "name": "stdout",
     "output_type": "stream",
     "text": [
      "Page 1 saved as HT_LTIP E-Bill Vipul gupta_png/page_1.png\n",
      "Page 2 saved as HT_LTIP E-Bill Vipul gupta_png/page_2.png\n",
      "Page 3 saved as HT_LTIP E-Bill Vipul gupta_png/page_3.png\n",
      "Page 4 saved as HT_LTIP E-Bill Vipul gupta_png/page_4.png\n"
     ]
    }
   ],
   "source": [
    "pdf_to_images(\"HT_LTIP E-Bill Vipul gupta.pdf\", output_format=\"png\")"
   ]
  },
  {
   "cell_type": "code",
   "execution_count": null,
   "id": "1f760da4",
   "metadata": {},
   "outputs": [],
   "source": []
  }
 ],
 "metadata": {
  "kernelspec": {
   "display_name": "Python 3 (ipykernel)",
   "language": "python",
   "name": "python3"
  },
  "language_info": {
   "codemirror_mode": {
    "name": "ipython",
    "version": 3
   },
   "file_extension": ".py",
   "mimetype": "text/x-python",
   "name": "python",
   "nbconvert_exporter": "python",
   "pygments_lexer": "ipython3",
   "version": "3.11.5"
  }
 },
 "nbformat": 4,
 "nbformat_minor": 5
}
